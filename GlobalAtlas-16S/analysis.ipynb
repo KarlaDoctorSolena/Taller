{
 "cells": [
  {
   "cell_type": "code",
   "execution_count": 39,
   "metadata": {},
   "outputs": [],
   "source": [
    "import pandas as pd\n",
    "import plotly as plt\n",
    "df = pd.read_excel(\"Dataset_01_22_2018.xlsx\")"
   ]
  },
  {
   "cell_type": "code",
   "execution_count": 40,
   "metadata": {},
   "outputs": [
    {
     "data": {
      "text/html": [
       "<div>\n",
       "<style scoped>\n",
       "    .dataframe tbody tr th:only-of-type {\n",
       "        vertical-align: middle;\n",
       "    }\n",
       "\n",
       "    .dataframe tbody tr th {\n",
       "        vertical-align: top;\n",
       "    }\n",
       "\n",
       "    .dataframe thead th {\n",
       "        text-align: right;\n",
       "    }\n",
       "</style>\n",
       "<table border=\"1\" class=\"dataframe\">\n",
       "  <thead>\n",
       "    <tr style=\"text-align: right;\">\n",
       "      <th></th>\n",
       "      <th>ID_sequencing</th>\n",
       "      <th>ID_Environmental</th>\n",
       "      <th>Longitude</th>\n",
       "      <th>Latitude</th>\n",
       "      <th>Continent</th>\n",
       "      <th>Clay_silt</th>\n",
       "      <th>Soil_C</th>\n",
       "      <th>Soil_N</th>\n",
       "      <th>Soil_P</th>\n",
       "      <th>Soil_C_N_ratio</th>\n",
       "      <th>...</th>\n",
       "      <th>Grassland</th>\n",
       "      <th>Shrubland</th>\n",
       "      <th>UV_Light</th>\n",
       "      <th>NPP2003_2015</th>\n",
       "      <th>Ecosystem_type</th>\n",
       "      <th>Low_pH_cluster</th>\n",
       "      <th>Drylands_cluster</th>\n",
       "      <th>High_pH_cluster</th>\n",
       "      <th>Dry_forest_cluster</th>\n",
       "      <th>Low_productivity_cluster</th>\n",
       "    </tr>\n",
       "  </thead>\n",
       "  <tbody>\n",
       "    <tr>\n",
       "      <th>0</th>\n",
       "      <td>1</td>\n",
       "      <td>1</td>\n",
       "      <td>-54.683333</td>\n",
       "      <td>-26.733333</td>\n",
       "      <td>South_america</td>\n",
       "      <td>82.0</td>\n",
       "      <td>1.771</td>\n",
       "      <td>0.248</td>\n",
       "      <td>559.298</td>\n",
       "      <td>7.144</td>\n",
       "      <td>...</td>\n",
       "      <td>0</td>\n",
       "      <td>0</td>\n",
       "      <td>10.525</td>\n",
       "      <td>0.819973</td>\n",
       "      <td>Temperate forests</td>\n",
       "      <td>-0.203029</td>\n",
       "      <td>-0.692027</td>\n",
       "      <td>-0.457046</td>\n",
       "      <td>-0.519431</td>\n",
       "      <td>-0.698867</td>\n",
       "    </tr>\n",
       "    <tr>\n",
       "      <th>1</th>\n",
       "      <td>2</td>\n",
       "      <td>2</td>\n",
       "      <td>-148.250000</td>\n",
       "      <td>64.800000</td>\n",
       "      <td>North_America</td>\n",
       "      <td>80.0</td>\n",
       "      <td>3.217</td>\n",
       "      <td>0.156</td>\n",
       "      <td>911.506</td>\n",
       "      <td>20.597</td>\n",
       "      <td>...</td>\n",
       "      <td>0</td>\n",
       "      <td>0</td>\n",
       "      <td>2.322</td>\n",
       "      <td>0.380480</td>\n",
       "      <td>Boreal</td>\n",
       "      <td>0.279473</td>\n",
       "      <td>-0.740384</td>\n",
       "      <td>-0.730829</td>\n",
       "      <td>-0.323655</td>\n",
       "      <td>-0.730370</td>\n",
       "    </tr>\n",
       "    <tr>\n",
       "      <th>2</th>\n",
       "      <td>3</td>\n",
       "      <td>3</td>\n",
       "      <td>-72.190000</td>\n",
       "      <td>42.530000</td>\n",
       "      <td>North_America</td>\n",
       "      <td>42.0</td>\n",
       "      <td>34.772</td>\n",
       "      <td>1.398</td>\n",
       "      <td>1269.108</td>\n",
       "      <td>24.881</td>\n",
       "      <td>...</td>\n",
       "      <td>0</td>\n",
       "      <td>0</td>\n",
       "      <td>5.407</td>\n",
       "      <td>0.658017</td>\n",
       "      <td>Cold forests</td>\n",
       "      <td>0.288032</td>\n",
       "      <td>-0.765861</td>\n",
       "      <td>-0.721772</td>\n",
       "      <td>-0.671151</td>\n",
       "      <td>-0.730370</td>\n",
       "    </tr>\n",
       "    <tr>\n",
       "      <th>3</th>\n",
       "      <td>4</td>\n",
       "      <td>4</td>\n",
       "      <td>-96.570000</td>\n",
       "      <td>39.090000</td>\n",
       "      <td>North_America</td>\n",
       "      <td>35.8</td>\n",
       "      <td>5.931</td>\n",
       "      <td>0.585</td>\n",
       "      <td>763.273</td>\n",
       "      <td>10.142</td>\n",
       "      <td>...</td>\n",
       "      <td>0</td>\n",
       "      <td>0</td>\n",
       "      <td>6.410</td>\n",
       "      <td>0.475787</td>\n",
       "      <td>Temperate forests</td>\n",
       "      <td>-0.387621</td>\n",
       "      <td>-0.586796</td>\n",
       "      <td>0.216583</td>\n",
       "      <td>-0.492100</td>\n",
       "      <td>-0.686480</td>\n",
       "    </tr>\n",
       "    <tr>\n",
       "      <th>4</th>\n",
       "      <td>5</td>\n",
       "      <td>5</td>\n",
       "      <td>-122.260000</td>\n",
       "      <td>44.210000</td>\n",
       "      <td>North_America</td>\n",
       "      <td>28.2</td>\n",
       "      <td>9.713</td>\n",
       "      <td>0.895</td>\n",
       "      <td>1702.348</td>\n",
       "      <td>10.850</td>\n",
       "      <td>...</td>\n",
       "      <td>1</td>\n",
       "      <td>0</td>\n",
       "      <td>6.029</td>\n",
       "      <td>0.779492</td>\n",
       "      <td>Grasslands</td>\n",
       "      <td>0.553378</td>\n",
       "      <td>-0.703947</td>\n",
       "      <td>-0.646651</td>\n",
       "      <td>-0.164321</td>\n",
       "      <td>-0.375900</td>\n",
       "    </tr>\n",
       "  </tbody>\n",
       "</table>\n",
       "<p>5 rows × 27 columns</p>\n",
       "</div>"
      ],
      "text/plain": [
       "   ID_sequencing  ID_Environmental   Longitude   Latitude      Continent  \\\n",
       "0              1                 1  -54.683333 -26.733333  South_america   \n",
       "1              2                 2 -148.250000  64.800000  North_America   \n",
       "2              3                 3  -72.190000  42.530000  North_America   \n",
       "3              4                 4  -96.570000  39.090000  North_America   \n",
       "4              5                 5 -122.260000  44.210000  North_America   \n",
       "\n",
       "   Clay_silt  Soil_C  Soil_N    Soil_P  Soil_C_N_ratio  ...  Grassland  \\\n",
       "0       82.0   1.771   0.248   559.298           7.144  ...          0   \n",
       "1       80.0   3.217   0.156   911.506          20.597  ...          0   \n",
       "2       42.0  34.772   1.398  1269.108          24.881  ...          0   \n",
       "3       35.8   5.931   0.585   763.273          10.142  ...          0   \n",
       "4       28.2   9.713   0.895  1702.348          10.850  ...          1   \n",
       "\n",
       "   Shrubland  UV_Light  NPP2003_2015     Ecosystem_type  Low_pH_cluster  \\\n",
       "0          0    10.525      0.819973  Temperate forests       -0.203029   \n",
       "1          0     2.322      0.380480             Boreal        0.279473   \n",
       "2          0     5.407      0.658017       Cold forests        0.288032   \n",
       "3          0     6.410      0.475787  Temperate forests       -0.387621   \n",
       "4          0     6.029      0.779492         Grasslands        0.553378   \n",
       "\n",
       "   Drylands_cluster  High_pH_cluster  Dry_forest_cluster  \\\n",
       "0         -0.692027        -0.457046           -0.519431   \n",
       "1         -0.740384        -0.730829           -0.323655   \n",
       "2         -0.765861        -0.721772           -0.671151   \n",
       "3         -0.586796         0.216583           -0.492100   \n",
       "4         -0.703947        -0.646651           -0.164321   \n",
       "\n",
       "   Low_productivity_cluster  \n",
       "0                 -0.698867  \n",
       "1                 -0.730370  \n",
       "2                 -0.730370  \n",
       "3                 -0.686480  \n",
       "4                 -0.375900  \n",
       "\n",
       "[5 rows x 27 columns]"
      ]
     },
     "execution_count": 40,
     "metadata": {},
     "output_type": "execute_result"
    }
   ],
   "source": [
    "df.head()"
   ]
  },
  {
   "cell_type": "code",
   "execution_count": 43,
   "metadata": {},
   "outputs": [
    {
     "data": {
      "text/plain": [
       "0      -54.683333\n",
       "1     -148.250000\n",
       "2      -72.190000\n",
       "3      -96.570000\n",
       "4     -122.260000\n",
       "          ...    \n",
       "232    142.204950\n",
       "233    -67.635556\n",
       "234    -67.635278\n",
       "235    -67.632500\n",
       "236    -67.632778\n",
       "Name: Longitude, Length: 237, dtype: float64"
      ]
     },
     "execution_count": 43,
     "metadata": {},
     "output_type": "execute_result"
    }
   ],
   "source": [
    "df['Longitude']"
   ]
  },
  {
   "cell_type": "code",
   "execution_count": 61,
   "metadata": {},
   "outputs": [
    {
     "data": {
      "application/vnd.plotly.v1+json": {
       "config": {
        "plotlyServerURL": "https://plot.ly"
       },
       "data": [
        {
         "hovertemplate": "symbol=3<br>Longitude=%{x}<br>Latitude=%{y}<br>Ecosystem_type=%{marker.color}<extra></extra>",
         "legendgroup": "3",
         "marker": {
          "color": [
           7,
           5,
           5,
           6,
           6,
           4,
           4,
           4,
           4,
           1,
           1,
           1,
           6
          ],
          "coloraxis": "coloraxis",
          "symbol": "circle"
         },
         "mode": "markers",
         "name": "3",
         "orientation": "v",
         "showlegend": true,
         "type": "scatter",
         "x": [
          -54.68333333,
          -69.676417,
          -71.059489,
          -70.080944,
          -70.524528,
          -71.244902,
          -71.250724,
          -71.663635,
          -71.585444,
          -67.6355555555555,
          -67.6352777777777,
          -67.6325,
          -67.6327777777777
         ],
         "xaxis": "x",
         "y": [
          -26.73333333,
          -41.807778,
          -41.004278,
          -41.253333,
          -41.0335,
          -29.311377,
          -29.749902,
          -30.662263,
          -31.199813,
          -54.9349999999999,
          -54.9541666666666,
          -54.9588888888888,
          -54.9718611111111
         ],
         "yaxis": "y"
        },
        {
         "hovertemplate": "symbol=9<br>Longitude=%{x}<br>Latitude=%{y}<br>Ecosystem_type=%{marker.color}<extra></extra>",
         "legendgroup": "9",
         "marker": {
          "color": [
           0,
           5,
           7,
           0,
           0,
           2
          ],
          "coloraxis": "coloraxis",
          "symbol": "diamond"
         },
         "mode": "markers",
         "name": "9",
         "orientation": "v",
         "showlegend": true,
         "type": "scatter",
         "x": [
          -148.25,
          -155.26,
          -155.26,
          -147.84,
          -147.84,
          -149.5833333
         ],
         "xaxis": "x",
         "y": [
          64.8,
          19.81,
          19.81,
          64.85,
          64.85,
          68.63333333
         ],
         "yaxis": "y"
        },
        {
         "hovertemplate": "symbol=1<br>Longitude=%{x}<br>Latitude=%{y}<br>Ecosystem_type=%{marker.color}<extra></extra>",
         "legendgroup": "1",
         "marker": {
          "color": [
           1,
           7,
           7,
           2,
           5,
           2,
           1,
           2,
           1,
           5,
           1,
           2,
           7,
           5,
           4,
           5,
           2,
           5,
           2,
           2,
           2,
           2,
           2,
           2,
           2,
           2,
           2,
           2,
           5,
           2,
           6,
           4,
           4,
           6,
           4,
           4,
           4,
           4
          ],
          "coloraxis": "coloraxis",
          "symbol": "square"
         },
         "mode": "markers",
         "name": "1",
         "orientation": "v",
         "showlegend": true,
         "type": "scatter",
         "x": [
          -72.19,
          -96.57,
          -83.5,
          -72.19,
          -83.5,
          -71.75,
          -71.75,
          -85.4,
          -85.4,
          -96.57,
          -93.2,
          -93.2,
          -79.08333333,
          -86.70167,
          -101.63,
          -96.582821,
          -93.38538333,
          -96.88,
          -95.54,
          -96.52,
          -96.81,
          -97.11,
          -95.58,
          -93.66,
          -96.97,
          -96.78,
          -96.71,
          -96.43,
          -96.6,
          -96.57,
          -99.655561,
          -100.943528,
          -100.420636,
          -99.894557,
          -101.055406,
          -101.273809,
          -101.248559,
          -102.455579
         ],
         "xaxis": "x",
         "y": [
          42.53,
          39.09,
          35,
          42.53,
          35,
          43.94,
          43.94,
          42.4,
          42.4,
          39.09,
          45.4,
          45.4,
          35.96666667,
          36.871944,
          41.2,
          39.070856,
          41.78506667,
          31.48,
          40.15,
          40.16,
          40.87,
          41.61,
          42.88,
          43.51,
          43.55,
          44.04,
          44.26,
          47.05,
          39.1,
          44.8,
          22.246529,
          23.601688,
          22.644511,
          22.64831,
          23.254883,
          23.204697,
          23.737999,
          22.352438
         ],
         "yaxis": "y"
        },
        {
         "hovertemplate": "symbol=5<br>Longitude=%{x}<br>Latitude=%{y}<br>Ecosystem_type=%{marker.color}<extra></extra>",
         "legendgroup": "5",
         "marker": {
          "color": [
           5,
           1,
           2,
           5,
           5,
           5,
           1,
           1,
           1,
           1,
           1,
           1,
           1,
           1,
           1,
           1,
           4,
           6,
           4,
           4,
           4,
           6,
           4,
           4,
           4,
           4,
           4
          ],
          "coloraxis": "coloraxis",
          "symbol": "x"
         },
         "mode": "markers",
         "name": "5",
         "orientation": "v",
         "showlegend": true,
         "type": "scatter",
         "x": [
          -122.26,
          -105.37,
          -105.37,
          -123.38,
          -120.24,
          -121.9680169,
          -111.00378,
          -111.00378,
          -111.00378,
          -111.00378,
          -111.00378,
          -111.00378,
          -111.00378,
          -111.00378,
          -111.00378,
          -111.00378,
          -106.7333333,
          -112.552224,
          -109.710268,
          -109.910049,
          -111.696845,
          -112.02167,
          -109.413583,
          -110.516686,
          -111.856829,
          -115.79572,
          -115.811803
         ],
         "xaxis": "x",
         "y": [
          44.21,
          39.99,
          39.99,
          48.46,
          39.43,
          44.27668543,
          45.573646,
          45.573646,
          45.573646,
          45.573646,
          45.573646,
          45.573646,
          45.573646,
          45.573646,
          45.573646,
          45.573646,
          34.33333333,
          37.113448,
          38.173514,
          37.581928,
          37.086092,
          37.507278,
          37.730413,
          38.003108,
          36.685466,
          33.754262,
          33.750666
         ],
         "yaxis": "y"
        },
        {
         "hovertemplate": "symbol=7<br>Longitude=%{x}<br>Latitude=%{y}<br>Ecosystem_type=%{marker.color}<extra></extra>",
         "legendgroup": "7",
         "marker": {
          "color": [
           5,
           8,
           8,
           8,
           8,
           8,
           8,
           8,
           6
          ],
          "coloraxis": "coloraxis",
          "symbol": "cross"
         },
         "mode": "markers",
         "name": "7",
         "orientation": "v",
         "showlegend": true,
         "type": "scatter",
         "x": [
          -65.8,
          -65.8,
          -79.7442,
          -79.7427,
          -79.77187500000001,
          -71.23333333,
          -79.8553,
          -79.7453,
          -69.946911
         ],
         "xaxis": "x",
         "y": [
          18.3,
          18.3,
          9.1565,
          9.16093,
          9.15761,
          -12.63333333,
          9.15125,
          9.16176,
          9.666497
         ],
         "yaxis": "y"
        },
        {
         "hovertemplate": "symbol=8<br>Longitude=%{x}<br>Latitude=%{y}<br>Ecosystem_type=%{marker.color}<extra></extra>",
         "legendgroup": "8",
         "marker": {
          "color": [
           5,
           5,
           5
          ],
          "coloraxis": "coloraxis",
          "symbol": "circle"
         },
         "mode": "markers",
         "name": "8",
         "orientation": "v",
         "showlegend": true,
         "type": "scatter",
         "x": [
          30.71573,
          30.29174,
          30.4
         ],
         "xaxis": "x",
         "y": [
          -29.81161,
          -29.28424,
          -29.67
         ],
         "yaxis": "y"
        },
        {
         "hovertemplate": "symbol=0<br>Longitude=%{x}<br>Latitude=%{y}<br>Ecosystem_type=%{marker.color}<extra></extra>",
         "legendgroup": "0",
         "marker": {
          "color": [
           5,
           3,
           3,
           3,
           3,
           3,
           3,
           3,
           3,
           3,
           3,
           3,
           3,
           3,
           3,
           3,
           3,
           3,
           3,
           3,
           3,
           3,
           3,
           3,
           3,
           3,
           3,
           3,
           3,
           3,
           3,
           3,
           3,
           3,
           3,
           3,
           3,
           3,
           3,
           3,
           3,
           3,
           3,
           7,
           7,
           7,
           7,
           7,
           7,
           3,
           3,
           3,
           3,
           3,
           3,
           3,
           3,
           3,
           3,
           3,
           3,
           4,
           4,
           7,
           3,
           3,
           7,
           7,
           7,
           7,
           7,
           7,
           7,
           7,
           7,
           7,
           7,
           7,
           7,
           3,
           3,
           7,
           7,
           3,
           3
          ],
          "coloraxis": "coloraxis",
          "symbol": "diamond"
         },
         "mode": "markers",
         "name": "0",
         "orientation": "v",
         "showlegend": true,
         "type": "scatter",
         "x": [
          151.139517,
          117.610853,
          146.212,
          146.197,
          145.759,
          144.525,
          145.786,
          146.347,
          144.816,
          144.833,
          146.187,
          144.878,
          144.827,
          144.819,
          145.582,
          145.596,
          146.38558,
          145.758459,
          145.55909,
          145.747545,
          145.25161,
          145.261715,
          145.591506,
          145.613197,
          145.765813,
          145.774749,
          145.698279,
          145.631861,
          145.637641,
          146.481861,
          146.490617,
          145.992029,
          145.90637,
          146.465998,
          145.5878,
          145.88378,
          145.67999,
          145.2644,
          145.97622,
          145.96507,
          145.829136,
          145.788243,
          145.779652,
          145.891286,
          145.87919,
          145.74798,
          145.685582,
          145.6486,
          145.601954,
          144.614926,
          144.580937,
          144.574145,
          144.647202,
          145.70554,
          144.5354,
          144.52706,
          142.556909,
          142.481679,
          142.508839,
          142.460103,
          142.686154,
          146.309722,
          147.707778,
          147.388211,
          146.208538,
          146.308989,
          146.5763611111111,
          146.919987,
          147.422757,
          149.88757,
          150.862162,
          150.771211,
          148.919106,
          148.947758,
          148.609224,
          148.172742,
          148.203347,
          148.164342,
          150.238876,
          145.726367,
          146.071294,
          150.99395,
          151.057451,
          142.0837778,
          142.20495
         ],
         "xaxis": "x",
         "y": [
          -27.734896,
          -31.782138,
          -34.7118,
          -34.7133,
          -33.3576,
          -35.3443,
          -34.5205,
          -34.6507,
          -35.4101,
          -35.4128,
          -34.5303,
          -35.504,
          -35.494,
          -35.4895,
          -33.4569,
          -33.4563,
          -34.5578,
          -33.35119,
          -33.47484,
          -33.346019,
          -31.8654,
          -31.844558,
          -32.633899,
          -32.640211,
          -33.99013,
          -33.984529,
          -33.993636,
          -33.797051,
          -33.794211,
          -34.798363,
          -34.825074,
          -34.76219,
          -34.747744,
          -34.811983,
          -33.8422,
          -34.7974,
          -32.62636,
          -31.875593,
          -34.554395,
          -34.557097,
          -34.556716,
          -34.56556,
          -34.538107,
          -35.934712,
          -35.950539,
          -35.953218,
          -35.9228,
          -35.884732,
          -35.864302,
          -35.358242,
          -35.351175,
          -35.329233,
          -35.350591,
          -34.5239,
          -35.3858,
          -35.3523,
          -34.204296,
          -34.24777,
          -34.018527,
          -33.960183,
          -33.931135,
          -31.556111,
          -31.8575,
          -33.844892,
          -34.357823,
          -34.415466,
          -34.283722222222224,
          -34.346187,
          -34.435437,
          -34.743692,
          -33.654888,
          -33.621635,
          -34.362568,
          -33.981005,
          -33.833655,
          -33.505705,
          -33.729918,
          -33.324038,
          -34.506477,
          -34,
          -34.254023,
          -33.909637,
          -33.982,
          -34.127508,
          -34.158906
         ],
         "yaxis": "y"
        },
        {
         "hovertemplate": "symbol=2<br>Longitude=%{x}<br>Latitude=%{y}<br>Ecosystem_type=%{marker.color}<extra></extra>",
         "legendgroup": "2",
         "marker": {
          "color": [
           2,
           5,
           5,
           5,
           5,
           5,
           5,
           5,
           5,
           5,
           5,
           5,
           5,
           5,
           5,
           5,
           5,
           4,
           5,
           5,
           5,
           5,
           5,
           5,
           4,
           4,
           5,
           4,
           5,
           4,
           4,
           4,
           4,
           6,
           4,
           6,
           4,
           6,
           6,
           6,
           4,
           4,
           4,
           4,
           4,
           4
          ],
          "coloraxis": "coloraxis",
          "symbol": "square"
         },
         "mode": "markers",
         "name": "2",
         "orientation": "v",
         "showlegend": true,
         "type": "scatter",
         "x": [
          10.372252,
          -2.285400608,
          -2.067171822,
          -2.0793194,
          -2.0077184,
          -2.0332443,
          -2.9004561,
          -2.3406767,
          -3.875976,
          -4.427518,
          0.81922022,
          -2.0036085,
          -2.422588,
          -2.372904,
          -2.192604,
          -3.373502,
          -3.638859,
          -1.999301,
          -3.558751,
          -2.728708,
          -3.464915,
          -2.2306,
          -2.900725,
          -3.419164,
          -3.618947,
          -1.673747,
          -2.514767,
          -1.199478,
          -2.877436,
          -1.717695,
          -1.836988,
          -1.784601,
          -0.963246,
          -3.388677,
          -1.232379,
          -1.802287,
          -1.527039,
          -2.345141,
          -2.879354,
          -2.039614,
          9.647121,
          8.673783,
          9.97436,
          9.116646,
          9.717897,
          10.498595
         ],
         "xaxis": "x",
         "y": [
          46.631345,
          52.04949371,
          52.17127185,
          52.243108,
          52.249886,
          52.281878,
          51.065861,
          54.168173,
          50.808636,
          50.835199,
          52.440139,
          51.814047,
          33.052487,
          34.159182,
          34.430867,
          33.976574,
          34.473045,
          34.309672,
          33.932621,
          33.06768,
          34.625548,
          39.048208,
          40.068228,
          40.208781,
          39.992036,
          37.821156,
          39.207539,
          38.588606,
          40.354792,
          38.791855,
          37.721332,
          37.726728,
          38.308579,
          40.36936,
          37.593066,
          39.538668,
          38.065532,
          39.127509,
          40.018028,
          37.6339,
          34.494253,
          35.167767,
          33.52157,
          35.160036,
          34.956452,
          32.98347
         ],
         "yaxis": "y"
        },
        {
         "hovertemplate": "symbol=4<br>Longitude=%{x}<br>Latitude=%{y}<br>Ecosystem_type=%{marker.color}<extra></extra>",
         "legendgroup": "4",
         "marker": {
          "color": [
           0,
           2,
           2,
           2,
           4,
           4
          ],
          "coloraxis": "coloraxis",
          "symbol": "x"
         },
         "mode": "markers",
         "name": "4",
         "orientation": "v",
         "showlegend": true,
         "type": "scatter",
         "x": [
          119.177417,
          118.403778,
          117.272139,
          116.994528,
          116.786556,
          116.015833
         ],
         "xaxis": "x",
         "y": [
          49.262694,
          49.494333,
          49.525333,
          49.031528,
          48.609778,
          48.223083
         ],
         "yaxis": "y"
        },
        {
         "hovertemplate": "symbol=6<br>Longitude=%{x}<br>Latitude=%{y}<br>Ecosystem_type=%{marker.color}<extra></extra>",
         "legendgroup": "6",
         "marker": {
          "color": [
           6,
           4,
           6,
           4
          ],
          "coloraxis": "coloraxis",
          "symbol": "cross"
         },
         "mode": "markers",
         "name": "6",
         "orientation": "v",
         "showlegend": true,
         "type": "scatter",
         "x": [
          58.6695,
          56.560944,
          58.109556,
          34.820866
         ],
         "xaxis": "x",
         "y": [
          36.696167,
          37.371111,
          37.429083,
          31.35779
         ],
         "yaxis": "y"
        }
       ],
       "layout": {
        "coloraxis": {
         "colorbar": {
          "title": {
           "text": "Ecosystem_type"
          }
         },
         "colorscale": [
          [
           0,
           "#0d0887"
          ],
          [
           0.1111111111111111,
           "#46039f"
          ],
          [
           0.2222222222222222,
           "#7201a8"
          ],
          [
           0.3333333333333333,
           "#9c179e"
          ],
          [
           0.4444444444444444,
           "#bd3786"
          ],
          [
           0.5555555555555556,
           "#d8576b"
          ],
          [
           0.6666666666666666,
           "#ed7953"
          ],
          [
           0.7777777777777778,
           "#fb9f3a"
          ],
          [
           0.8888888888888888,
           "#fdca26"
          ],
          [
           1,
           "#f0f921"
          ]
         ]
        },
        "legend": {
         "title": {
          "text": "symbol"
         },
         "tracegroupgap": 0
        },
        "margin": {
         "t": 60
        },
        "template": {
         "data": {
          "bar": [
           {
            "error_x": {
             "color": "#2a3f5f"
            },
            "error_y": {
             "color": "#2a3f5f"
            },
            "marker": {
             "line": {
              "color": "#E5ECF6",
              "width": 0.5
             },
             "pattern": {
              "fillmode": "overlay",
              "size": 10,
              "solidity": 0.2
             }
            },
            "type": "bar"
           }
          ],
          "barpolar": [
           {
            "marker": {
             "line": {
              "color": "#E5ECF6",
              "width": 0.5
             },
             "pattern": {
              "fillmode": "overlay",
              "size": 10,
              "solidity": 0.2
             }
            },
            "type": "barpolar"
           }
          ],
          "carpet": [
           {
            "aaxis": {
             "endlinecolor": "#2a3f5f",
             "gridcolor": "white",
             "linecolor": "white",
             "minorgridcolor": "white",
             "startlinecolor": "#2a3f5f"
            },
            "baxis": {
             "endlinecolor": "#2a3f5f",
             "gridcolor": "white",
             "linecolor": "white",
             "minorgridcolor": "white",
             "startlinecolor": "#2a3f5f"
            },
            "type": "carpet"
           }
          ],
          "choropleth": [
           {
            "colorbar": {
             "outlinewidth": 0,
             "ticks": ""
            },
            "type": "choropleth"
           }
          ],
          "contour": [
           {
            "colorbar": {
             "outlinewidth": 0,
             "ticks": ""
            },
            "colorscale": [
             [
              0,
              "#0d0887"
             ],
             [
              0.1111111111111111,
              "#46039f"
             ],
             [
              0.2222222222222222,
              "#7201a8"
             ],
             [
              0.3333333333333333,
              "#9c179e"
             ],
             [
              0.4444444444444444,
              "#bd3786"
             ],
             [
              0.5555555555555556,
              "#d8576b"
             ],
             [
              0.6666666666666666,
              "#ed7953"
             ],
             [
              0.7777777777777778,
              "#fb9f3a"
             ],
             [
              0.8888888888888888,
              "#fdca26"
             ],
             [
              1,
              "#f0f921"
             ]
            ],
            "type": "contour"
           }
          ],
          "contourcarpet": [
           {
            "colorbar": {
             "outlinewidth": 0,
             "ticks": ""
            },
            "type": "contourcarpet"
           }
          ],
          "heatmap": [
           {
            "colorbar": {
             "outlinewidth": 0,
             "ticks": ""
            },
            "colorscale": [
             [
              0,
              "#0d0887"
             ],
             [
              0.1111111111111111,
              "#46039f"
             ],
             [
              0.2222222222222222,
              "#7201a8"
             ],
             [
              0.3333333333333333,
              "#9c179e"
             ],
             [
              0.4444444444444444,
              "#bd3786"
             ],
             [
              0.5555555555555556,
              "#d8576b"
             ],
             [
              0.6666666666666666,
              "#ed7953"
             ],
             [
              0.7777777777777778,
              "#fb9f3a"
             ],
             [
              0.8888888888888888,
              "#fdca26"
             ],
             [
              1,
              "#f0f921"
             ]
            ],
            "type": "heatmap"
           }
          ],
          "heatmapgl": [
           {
            "colorbar": {
             "outlinewidth": 0,
             "ticks": ""
            },
            "colorscale": [
             [
              0,
              "#0d0887"
             ],
             [
              0.1111111111111111,
              "#46039f"
             ],
             [
              0.2222222222222222,
              "#7201a8"
             ],
             [
              0.3333333333333333,
              "#9c179e"
             ],
             [
              0.4444444444444444,
              "#bd3786"
             ],
             [
              0.5555555555555556,
              "#d8576b"
             ],
             [
              0.6666666666666666,
              "#ed7953"
             ],
             [
              0.7777777777777778,
              "#fb9f3a"
             ],
             [
              0.8888888888888888,
              "#fdca26"
             ],
             [
              1,
              "#f0f921"
             ]
            ],
            "type": "heatmapgl"
           }
          ],
          "histogram": [
           {
            "marker": {
             "pattern": {
              "fillmode": "overlay",
              "size": 10,
              "solidity": 0.2
             }
            },
            "type": "histogram"
           }
          ],
          "histogram2d": [
           {
            "colorbar": {
             "outlinewidth": 0,
             "ticks": ""
            },
            "colorscale": [
             [
              0,
              "#0d0887"
             ],
             [
              0.1111111111111111,
              "#46039f"
             ],
             [
              0.2222222222222222,
              "#7201a8"
             ],
             [
              0.3333333333333333,
              "#9c179e"
             ],
             [
              0.4444444444444444,
              "#bd3786"
             ],
             [
              0.5555555555555556,
              "#d8576b"
             ],
             [
              0.6666666666666666,
              "#ed7953"
             ],
             [
              0.7777777777777778,
              "#fb9f3a"
             ],
             [
              0.8888888888888888,
              "#fdca26"
             ],
             [
              1,
              "#f0f921"
             ]
            ],
            "type": "histogram2d"
           }
          ],
          "histogram2dcontour": [
           {
            "colorbar": {
             "outlinewidth": 0,
             "ticks": ""
            },
            "colorscale": [
             [
              0,
              "#0d0887"
             ],
             [
              0.1111111111111111,
              "#46039f"
             ],
             [
              0.2222222222222222,
              "#7201a8"
             ],
             [
              0.3333333333333333,
              "#9c179e"
             ],
             [
              0.4444444444444444,
              "#bd3786"
             ],
             [
              0.5555555555555556,
              "#d8576b"
             ],
             [
              0.6666666666666666,
              "#ed7953"
             ],
             [
              0.7777777777777778,
              "#fb9f3a"
             ],
             [
              0.8888888888888888,
              "#fdca26"
             ],
             [
              1,
              "#f0f921"
             ]
            ],
            "type": "histogram2dcontour"
           }
          ],
          "mesh3d": [
           {
            "colorbar": {
             "outlinewidth": 0,
             "ticks": ""
            },
            "type": "mesh3d"
           }
          ],
          "parcoords": [
           {
            "line": {
             "colorbar": {
              "outlinewidth": 0,
              "ticks": ""
             }
            },
            "type": "parcoords"
           }
          ],
          "pie": [
           {
            "automargin": true,
            "type": "pie"
           }
          ],
          "scatter": [
           {
            "fillpattern": {
             "fillmode": "overlay",
             "size": 10,
             "solidity": 0.2
            },
            "type": "scatter"
           }
          ],
          "scatter3d": [
           {
            "line": {
             "colorbar": {
              "outlinewidth": 0,
              "ticks": ""
             }
            },
            "marker": {
             "colorbar": {
              "outlinewidth": 0,
              "ticks": ""
             }
            },
            "type": "scatter3d"
           }
          ],
          "scattercarpet": [
           {
            "marker": {
             "colorbar": {
              "outlinewidth": 0,
              "ticks": ""
             }
            },
            "type": "scattercarpet"
           }
          ],
          "scattergeo": [
           {
            "marker": {
             "colorbar": {
              "outlinewidth": 0,
              "ticks": ""
             }
            },
            "type": "scattergeo"
           }
          ],
          "scattergl": [
           {
            "marker": {
             "colorbar": {
              "outlinewidth": 0,
              "ticks": ""
             }
            },
            "type": "scattergl"
           }
          ],
          "scattermapbox": [
           {
            "marker": {
             "colorbar": {
              "outlinewidth": 0,
              "ticks": ""
             }
            },
            "type": "scattermapbox"
           }
          ],
          "scatterpolar": [
           {
            "marker": {
             "colorbar": {
              "outlinewidth": 0,
              "ticks": ""
             }
            },
            "type": "scatterpolar"
           }
          ],
          "scatterpolargl": [
           {
            "marker": {
             "colorbar": {
              "outlinewidth": 0,
              "ticks": ""
             }
            },
            "type": "scatterpolargl"
           }
          ],
          "scatterternary": [
           {
            "marker": {
             "colorbar": {
              "outlinewidth": 0,
              "ticks": ""
             }
            },
            "type": "scatterternary"
           }
          ],
          "surface": [
           {
            "colorbar": {
             "outlinewidth": 0,
             "ticks": ""
            },
            "colorscale": [
             [
              0,
              "#0d0887"
             ],
             [
              0.1111111111111111,
              "#46039f"
             ],
             [
              0.2222222222222222,
              "#7201a8"
             ],
             [
              0.3333333333333333,
              "#9c179e"
             ],
             [
              0.4444444444444444,
              "#bd3786"
             ],
             [
              0.5555555555555556,
              "#d8576b"
             ],
             [
              0.6666666666666666,
              "#ed7953"
             ],
             [
              0.7777777777777778,
              "#fb9f3a"
             ],
             [
              0.8888888888888888,
              "#fdca26"
             ],
             [
              1,
              "#f0f921"
             ]
            ],
            "type": "surface"
           }
          ],
          "table": [
           {
            "cells": {
             "fill": {
              "color": "#EBF0F8"
             },
             "line": {
              "color": "white"
             }
            },
            "header": {
             "fill": {
              "color": "#C8D4E3"
             },
             "line": {
              "color": "white"
             }
            },
            "type": "table"
           }
          ]
         },
         "layout": {
          "annotationdefaults": {
           "arrowcolor": "#2a3f5f",
           "arrowhead": 0,
           "arrowwidth": 1
          },
          "autotypenumbers": "strict",
          "coloraxis": {
           "colorbar": {
            "outlinewidth": 0,
            "ticks": ""
           }
          },
          "colorscale": {
           "diverging": [
            [
             0,
             "#8e0152"
            ],
            [
             0.1,
             "#c51b7d"
            ],
            [
             0.2,
             "#de77ae"
            ],
            [
             0.3,
             "#f1b6da"
            ],
            [
             0.4,
             "#fde0ef"
            ],
            [
             0.5,
             "#f7f7f7"
            ],
            [
             0.6,
             "#e6f5d0"
            ],
            [
             0.7,
             "#b8e186"
            ],
            [
             0.8,
             "#7fbc41"
            ],
            [
             0.9,
             "#4d9221"
            ],
            [
             1,
             "#276419"
            ]
           ],
           "sequential": [
            [
             0,
             "#0d0887"
            ],
            [
             0.1111111111111111,
             "#46039f"
            ],
            [
             0.2222222222222222,
             "#7201a8"
            ],
            [
             0.3333333333333333,
             "#9c179e"
            ],
            [
             0.4444444444444444,
             "#bd3786"
            ],
            [
             0.5555555555555556,
             "#d8576b"
            ],
            [
             0.6666666666666666,
             "#ed7953"
            ],
            [
             0.7777777777777778,
             "#fb9f3a"
            ],
            [
             0.8888888888888888,
             "#fdca26"
            ],
            [
             1,
             "#f0f921"
            ]
           ],
           "sequentialminus": [
            [
             0,
             "#0d0887"
            ],
            [
             0.1111111111111111,
             "#46039f"
            ],
            [
             0.2222222222222222,
             "#7201a8"
            ],
            [
             0.3333333333333333,
             "#9c179e"
            ],
            [
             0.4444444444444444,
             "#bd3786"
            ],
            [
             0.5555555555555556,
             "#d8576b"
            ],
            [
             0.6666666666666666,
             "#ed7953"
            ],
            [
             0.7777777777777778,
             "#fb9f3a"
            ],
            [
             0.8888888888888888,
             "#fdca26"
            ],
            [
             1,
             "#f0f921"
            ]
           ]
          },
          "colorway": [
           "#636efa",
           "#EF553B",
           "#00cc96",
           "#ab63fa",
           "#FFA15A",
           "#19d3f3",
           "#FF6692",
           "#B6E880",
           "#FF97FF",
           "#FECB52"
          ],
          "font": {
           "color": "#2a3f5f"
          },
          "geo": {
           "bgcolor": "white",
           "lakecolor": "white",
           "landcolor": "#E5ECF6",
           "showlakes": true,
           "showland": true,
           "subunitcolor": "white"
          },
          "hoverlabel": {
           "align": "left"
          },
          "hovermode": "closest",
          "mapbox": {
           "style": "light"
          },
          "paper_bgcolor": "white",
          "plot_bgcolor": "#E5ECF6",
          "polar": {
           "angularaxis": {
            "gridcolor": "white",
            "linecolor": "white",
            "ticks": ""
           },
           "bgcolor": "#E5ECF6",
           "radialaxis": {
            "gridcolor": "white",
            "linecolor": "white",
            "ticks": ""
           }
          },
          "scene": {
           "xaxis": {
            "backgroundcolor": "#E5ECF6",
            "gridcolor": "white",
            "gridwidth": 2,
            "linecolor": "white",
            "showbackground": true,
            "ticks": "",
            "zerolinecolor": "white"
           },
           "yaxis": {
            "backgroundcolor": "#E5ECF6",
            "gridcolor": "white",
            "gridwidth": 2,
            "linecolor": "white",
            "showbackground": true,
            "ticks": "",
            "zerolinecolor": "white"
           },
           "zaxis": {
            "backgroundcolor": "#E5ECF6",
            "gridcolor": "white",
            "gridwidth": 2,
            "linecolor": "white",
            "showbackground": true,
            "ticks": "",
            "zerolinecolor": "white"
           }
          },
          "shapedefaults": {
           "line": {
            "color": "#2a3f5f"
           }
          },
          "ternary": {
           "aaxis": {
            "gridcolor": "white",
            "linecolor": "white",
            "ticks": ""
           },
           "baxis": {
            "gridcolor": "white",
            "linecolor": "white",
            "ticks": ""
           },
           "bgcolor": "#E5ECF6",
           "caxis": {
            "gridcolor": "white",
            "linecolor": "white",
            "ticks": ""
           }
          },
          "title": {
           "x": 0.05
          },
          "xaxis": {
           "automargin": true,
           "gridcolor": "white",
           "linecolor": "white",
           "ticks": "",
           "title": {
            "standoff": 15
           },
           "zerolinecolor": "white",
           "zerolinewidth": 2
          },
          "yaxis": {
           "automargin": true,
           "gridcolor": "white",
           "linecolor": "white",
           "ticks": "",
           "title": {
            "standoff": 15
           },
           "zerolinecolor": "white",
           "zerolinewidth": 2
          }
         }
        },
        "xaxis": {
         "anchor": "y",
         "domain": [
          0,
          1
         ],
         "title": {
          "text": "Longitude"
         }
        },
        "yaxis": {
         "anchor": "x",
         "domain": [
          0,
          1
         ],
         "title": {
          "text": "Latitude"
         }
        }
       }
      }
     },
     "metadata": {},
     "output_type": "display_data"
    }
   ],
   "source": [
    "import pandas as pd\n",
    "from sklearn.cluster import KMeans\n",
    "from sklearn.preprocessing import LabelEncoder\n",
    "\n",
    "df2 = pd.DataFrame(df, columns=['Longitude', 'Latitude', \"Ecosystem_type\"])\n",
    "lb_make = LabelEncoder()\n",
    "df2['Ecosystem_type'] = lb_make.fit_transform(df2['Ecosystem_type'])\n",
    "#df2 = df2.dropna('Ecosystem_type')\n",
    "kmeans = KMeans(n_clusters=10).fit_predict(df2)\n",
    "import plotly.express as px\n",
    "px.scatter(df2, x='Longitude', y=\"Latitude\", color=\"Ecosystem_type\", symbol=kmeans)"
   ]
  },
  {
   "cell_type": "code",
   "execution_count": 65,
   "metadata": {},
   "outputs": [
    {
     "data": {
      "text/plain": [
       "{'Boreal',\n",
       " 'Cold forests',\n",
       " 'Cold grasslands',\n",
       " 'Dry forests',\n",
       " 'Dry grasslands',\n",
       " 'Grasslands',\n",
       " 'Shrublands',\n",
       " 'Temperate forests',\n",
       " 'Tropical forests'}"
      ]
     },
     "execution_count": 65,
     "metadata": {},
     "output_type": "execute_result"
    }
   ],
   "source": [
    "ecosistema = set(lb_make.inverse_transform(df2['Ecosystem_type']))\n",
    "ecosistema"
   ]
  },
  {
   "cell_type": "code",
   "execution_count": null,
   "metadata": {},
   "outputs": [],
   "source": [
    "from sklearn.decomposition import PCA\n",
    "\"\"\"pca = PCA(n_components=2)\n",
    "principalComponents = pca.fit_transform(X)\n",
    "principalDf = pd.DataFrame(data = principalComponents\n",
    "             , columns = ['principal component 1', 'principal component 2'])\"\"\""
   ]
  },
  {
   "cell_type": "code",
   "execution_count": null,
   "metadata": {},
   "outputs": [],
   "source": []
  }
 ],
 "metadata": {
  "kernelspec": {
   "display_name": "Python 3.10.8 64-bit (microsoft store)",
   "language": "python",
   "name": "python3"
  },
  "language_info": {
   "codemirror_mode": {
    "name": "ipython",
    "version": 3
   },
   "file_extension": ".py",
   "mimetype": "text/x-python",
   "name": "python",
   "nbconvert_exporter": "python",
   "pygments_lexer": "ipython3",
   "version": "3.10.8"
  },
  "orig_nbformat": 4,
  "vscode": {
   "interpreter": {
    "hash": "edd328ca8b5a4a3223fe5b6683877329ea9f3caf08eb656bb58f34371fde0618"
   }
  }
 },
 "nbformat": 4,
 "nbformat_minor": 2
}
